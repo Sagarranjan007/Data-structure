{
  "nbformat": 4,
  "nbformat_minor": 0,
  "metadata": {
    "colab": {
      "name": "2.6.ipynb",
      "provenance": [],
      "include_colab_link": true
    },
    "kernelspec": {
      "display_name": "Python 3",
      "language": "python",
      "name": "python3"
    }
  },
  "cells": [
    {
      "cell_type": "markdown",
      "metadata": {
        "id": "view-in-github",
        "colab_type": "text"
      },
      "source": [
        "<a href=\"https://colab.research.google.com/github/Sagarranjan007/Data-structure/blob/master/2_6.ipynb\" target=\"_parent\"><img src=\"https://colab.research.google.com/assets/colab-badge.svg\" alt=\"Open In Colab\"/></a>"
      ]
    },
    {
      "cell_type": "markdown",
      "metadata": {
        "id": "2R97ADiFQ0Qq",
        "colab_type": "text"
      },
      "source": [
        "# Strings"
      ]
    },
    {
      "cell_type": "markdown",
      "metadata": {
        "id": "eVUSlgdsQ0Qs",
        "colab_type": "text"
      },
      "source": [
        "    A string is a sequence of characters.\n",
        "\n",
        "    Computers do not deal with characters, they deal with numbers (binary). Even though you may see characters on your screen, internally it is stored and manipulated as a combination of 0's and 1's.\n",
        "\n",
        "    This conversion of character to a number is called encoding, and the reverse process is decoding. ASCII and Unicode are some of the popular encoding used.\n",
        "\n",
        "    In Python, string is a sequence of Unicode character."
      ]
    },
    {
      "cell_type": "markdown",
      "metadata": {
        "id": "G_fSxHayQ0Qu",
        "colab_type": "text"
      },
      "source": [
        "For more details about unicode \n",
        "\n",
        "https://docs.python.org/3.3/howto/unicode.html"
      ]
    },
    {
      "cell_type": "markdown",
      "metadata": {
        "id": "d2ZdcRphQ0Qv",
        "colab_type": "text"
      },
      "source": [
        "# How to create a string?"
      ]
    },
    {
      "cell_type": "markdown",
      "metadata": {
        "id": "kVww6WnaQ0Qw",
        "colab_type": "text"
      },
      "source": [
        "Strings can be created by enclosing characters inside a single quote or double quotes. \n",
        "\n",
        "Even triple quotes can be used in Python but generally used to represent multiline strings and docstrings.\n"
      ]
    },
    {
      "cell_type": "code",
      "metadata": {
        "id": "8OM3IOK2Q0Qy",
        "colab_type": "code",
        "outputId": "800d5a43-b2c5-4dbc-c2c2-216137435b81",
        "colab": {
          "base_uri": "https://localhost:8080/",
          "height": 68
        }
      },
      "source": [
        "myString = 'Hello'\n",
        "\n",
        "print(myString)\n",
        "\n",
        "\n",
        "myString = \"Hello\"\n",
        "print(myString)\n",
        "\n",
        "\n",
        "myString = '''Hello'''\n",
        "print(myString)"
      ],
      "execution_count": 1,
      "outputs": [
        {
          "output_type": "stream",
          "text": [
            "Hello\n",
            "Hello\n",
            "Hello\n"
          ],
          "name": "stdout"
        }
      ]
    },
    {
      "cell_type": "markdown",
      "metadata": {
        "id": "8yQfoUnGQ0Q4",
        "colab_type": "text"
      },
      "source": [
        "# How to access characters in a string?"
      ]
    },
    {
      "cell_type": "markdown",
      "metadata": {
        "id": "lj884ZrtQ0Q6",
        "colab_type": "text"
      },
      "source": [
        "We can access individual characters using indexing and a range of characters using slicing.\n",
        "\n",
        "Index starts from 0. \n",
        "\n",
        "Trying to access a character out of index range will raise an IndexError. \n",
        "\n",
        "The index must be an integer. We can't use float or other types, this will result into TypeError.\n",
        "\n",
        "Python allows negative indexing for its sequences."
      ]
    },
    {
      "cell_type": "code",
      "metadata": {
        "id": "dECRrHU9Q0Q6",
        "colab_type": "code",
        "outputId": "66ce3a4c-bdd1-4fab-f749-5ec4e185850b",
        "colab": {
          "base_uri": "https://localhost:8080/",
          "height": 68
        }
      },
      "source": [
        "myString = \"Hello\"\n",
        "\n",
        "#print first Character\n",
        "print(myString[0])\n",
        "\n",
        "#print last character using negative indexing\n",
        "print(myString[-1])\n",
        "\n",
        "#slicing 2nd to 5th character\n",
        "print(myString[2:5])"
      ],
      "execution_count": 2,
      "outputs": [
        {
          "output_type": "stream",
          "text": [
            "H\n",
            "o\n",
            "llo\n"
          ],
          "name": "stdout"
        }
      ]
    },
    {
      "cell_type": "markdown",
      "metadata": {
        "id": "rYjjmAwVQ0RA",
        "colab_type": "text"
      },
      "source": [
        "If we try to access index out of the range or use decimal number, we will get errors."
      ]
    },
    {
      "cell_type": "code",
      "metadata": {
        "id": "sDdAkqPOQ0RB",
        "colab_type": "code",
        "outputId": "e21ba29f-8cd2-4b71-bc04-c7766fe67b58",
        "colab": {
          "base_uri": "https://localhost:8080/",
          "height": 164
        }
      },
      "source": [
        "print(myString[15])"
      ],
      "execution_count": 3,
      "outputs": [
        {
          "output_type": "error",
          "ename": "IndexError",
          "evalue": "ignored",
          "traceback": [
            "\u001b[0;31m---------------------------------------------------------------------------\u001b[0m",
            "\u001b[0;31mIndexError\u001b[0m                                Traceback (most recent call last)",
            "\u001b[0;32m<ipython-input-3-a6e04654a783>\u001b[0m in \u001b[0;36m<module>\u001b[0;34m()\u001b[0m\n\u001b[0;32m----> 1\u001b[0;31m \u001b[0mprint\u001b[0m\u001b[0;34m(\u001b[0m\u001b[0mmyString\u001b[0m\u001b[0;34m[\u001b[0m\u001b[0;36m15\u001b[0m\u001b[0;34m]\u001b[0m\u001b[0;34m)\u001b[0m\u001b[0;34m\u001b[0m\u001b[0;34m\u001b[0m\u001b[0m\n\u001b[0m",
            "\u001b[0;31mIndexError\u001b[0m: string index out of range"
          ]
        }
      ]
    },
    {
      "cell_type": "code",
      "metadata": {
        "id": "df79qTM1Q0RF",
        "colab_type": "code",
        "outputId": "aaadeff5-4b78-4305-d29a-cb1544610ca7",
        "colab": {
          "base_uri": "https://localhost:8080/",
          "height": 164
        }
      },
      "source": [
        "print(myString[1.5])"
      ],
      "execution_count": 4,
      "outputs": [
        {
          "output_type": "error",
          "ename": "TypeError",
          "evalue": "ignored",
          "traceback": [
            "\u001b[0;31m---------------------------------------------------------------------------\u001b[0m",
            "\u001b[0;31mTypeError\u001b[0m                                 Traceback (most recent call last)",
            "\u001b[0;32m<ipython-input-4-f317be76d762>\u001b[0m in \u001b[0;36m<module>\u001b[0;34m()\u001b[0m\n\u001b[0;32m----> 1\u001b[0;31m \u001b[0mprint\u001b[0m\u001b[0;34m(\u001b[0m\u001b[0mmyString\u001b[0m\u001b[0;34m[\u001b[0m\u001b[0;36m1.5\u001b[0m\u001b[0;34m]\u001b[0m\u001b[0;34m)\u001b[0m\u001b[0;34m\u001b[0m\u001b[0;34m\u001b[0m\u001b[0m\n\u001b[0m",
            "\u001b[0;31mTypeError\u001b[0m: string indices must be integers"
          ]
        }
      ]
    },
    {
      "cell_type": "markdown",
      "metadata": {
        "id": "l24m79F7Q0RI",
        "colab_type": "text"
      },
      "source": [
        "# How to change or delete a string ?"
      ]
    },
    {
      "cell_type": "markdown",
      "metadata": {
        "id": "82PqjvORQ0RK",
        "colab_type": "text"
      },
      "source": [
        "Strings are immutable. This means that elements of a string cannot be changed once it has been assigned. \n",
        "\n",
        "We can simply reassign different strings to the same name."
      ]
    },
    {
      "cell_type": "code",
      "metadata": {
        "id": "iV3SYntmQ0RL",
        "colab_type": "code",
        "outputId": "8789210b-3990-4441-b4ed-d59c9e1e7544",
        "colab": {
          "base_uri": "https://localhost:8080/",
          "height": 181
        }
      },
      "source": [
        "myString = \"Hello\"\n",
        "myString[4] = 's' # strings are immutable"
      ],
      "execution_count": 5,
      "outputs": [
        {
          "output_type": "error",
          "ename": "TypeError",
          "evalue": "ignored",
          "traceback": [
            "\u001b[0;31m---------------------------------------------------------------------------\u001b[0m",
            "\u001b[0;31mTypeError\u001b[0m                                 Traceback (most recent call last)",
            "\u001b[0;32m<ipython-input-5-786fea0a1f9c>\u001b[0m in \u001b[0;36m<module>\u001b[0;34m()\u001b[0m\n\u001b[1;32m      1\u001b[0m \u001b[0mmyString\u001b[0m \u001b[0;34m=\u001b[0m \u001b[0;34m\"Hello\"\u001b[0m\u001b[0;34m\u001b[0m\u001b[0;34m\u001b[0m\u001b[0m\n\u001b[0;32m----> 2\u001b[0;31m \u001b[0mmyString\u001b[0m\u001b[0;34m[\u001b[0m\u001b[0;36m4\u001b[0m\u001b[0;34m]\u001b[0m \u001b[0;34m=\u001b[0m \u001b[0;34m's'\u001b[0m \u001b[0;31m# strings are immutable\u001b[0m\u001b[0;34m\u001b[0m\u001b[0;34m\u001b[0m\u001b[0m\n\u001b[0m",
            "\u001b[0;31mTypeError\u001b[0m: 'str' object does not support item assignment"
          ]
        }
      ]
    },
    {
      "cell_type": "markdown",
      "metadata": {
        "id": "aMWgpS3pQ0RP",
        "colab_type": "text"
      },
      "source": [
        "We cannot delete or remove characters from a string. But deleting the string entirely is possible using the keyword       del."
      ]
    },
    {
      "cell_type": "code",
      "metadata": {
        "id": "k43jqNSwQ0RQ",
        "colab_type": "code",
        "colab": {}
      },
      "source": [
        "del myString # delete complete string"
      ],
      "execution_count": 0,
      "outputs": []
    },
    {
      "cell_type": "code",
      "metadata": {
        "id": "3gpZMAFtQ0RT",
        "colab_type": "code",
        "outputId": "1d4f5a0d-45e9-4a40-dab8-2419a46cd293",
        "colab": {}
      },
      "source": [
        "print(myString)"
      ],
      "execution_count": 0,
      "outputs": [
        {
          "output_type": "error",
          "ename": "NameError",
          "evalue": "name 'myString' is not defined",
          "traceback": [
            "\u001b[0;31m---------------------------------------------------------------------------\u001b[0m",
            "\u001b[0;31mNameError\u001b[0m                                 Traceback (most recent call last)",
            "\u001b[0;32m<ipython-input-8-60c083ddb862>\u001b[0m in \u001b[0;36m<module>\u001b[0;34m()\u001b[0m\n\u001b[0;32m----> 1\u001b[0;31m \u001b[0mprint\u001b[0m\u001b[0;34m(\u001b[0m\u001b[0mmyString\u001b[0m\u001b[0;34m)\u001b[0m\u001b[0;34m\u001b[0m\u001b[0m\n\u001b[0m",
            "\u001b[0;31mNameError\u001b[0m: name 'myString' is not defined"
          ]
        }
      ]
    },
    {
      "cell_type": "markdown",
      "metadata": {
        "id": "_I6JAqk7Q0RX",
        "colab_type": "text"
      },
      "source": [
        "# String Operations"
      ]
    },
    {
      "cell_type": "markdown",
      "metadata": {
        "id": "AdXL8ZfrQ0RY",
        "colab_type": "text"
      },
      "source": [
        "# Concatenation"
      ]
    },
    {
      "cell_type": "markdown",
      "metadata": {
        "id": "UEqPy2mBQ0Ra",
        "colab_type": "text"
      },
      "source": [
        "Joining of two or more strings into a single one is called concatenation.\n",
        "\n",
        "The + operator does this in Python. Simply writing two string literals together also concatenates them.\n",
        "\n",
        "The * operator can be used to repeat the string for a given number of times."
      ]
    },
    {
      "cell_type": "code",
      "metadata": {
        "id": "I02mfOxIQ0Rb",
        "colab_type": "code",
        "outputId": "7152b053-2586-4bac-9ea9-9aee50b3e2bf",
        "colab": {
          "base_uri": "https://localhost:8080/",
          "height": 51
        }
      },
      "source": [
        "s1 = \"Hello \"\n",
        "s2 = \"Satish\"\n",
        "\n",
        "#concatenation of 2 strings\n",
        "print(s1 + s2)\n",
        "\n",
        "#repeat string n times\n",
        "print(s1 * 3)"
      ],
      "execution_count": 6,
      "outputs": [
        {
          "output_type": "stream",
          "text": [
            "Hello Satish\n",
            "Hello Hello Hello \n"
          ],
          "name": "stdout"
        }
      ]
    },
    {
      "cell_type": "markdown",
      "metadata": {
        "id": "JUHt8GFjQ0Rf",
        "colab_type": "text"
      },
      "source": [
        "# Iterating Through String"
      ]
    },
    {
      "cell_type": "code",
      "metadata": {
        "id": "jDRQiFQVQ0Rg",
        "colab_type": "code",
        "outputId": "abff014d-7de0-4255-cfd7-c3e81f674ef6",
        "colab": {
          "base_uri": "https://localhost:8080/",
          "height": 34
        }
      },
      "source": [
        "count = 0\n",
        "for l in \"Hello World\":\n",
        "    if l == 'l':\n",
        "        count += 1\n",
        "print(count, ' letters found')"
      ],
      "execution_count": 8,
      "outputs": [
        {
          "output_type": "stream",
          "text": [
            "3  letters found\n"
          ],
          "name": "stdout"
        }
      ]
    },
    {
      "cell_type": "markdown",
      "metadata": {
        "id": "HJ_EXB0sQ0Rk",
        "colab_type": "text"
      },
      "source": [
        "# String Membership Test"
      ]
    },
    {
      "cell_type": "code",
      "metadata": {
        "id": "YCOI93eMQ0Rm",
        "colab_type": "code",
        "outputId": "da30a1ef-16fa-4ab8-d09a-ba5eff36753f",
        "colab": {
          "base_uri": "https://localhost:8080/",
          "height": 34
        }
      },
      "source": [
        "print('l' in 'Hello World') #in operator to test membership"
      ],
      "execution_count": 9,
      "outputs": [
        {
          "output_type": "stream",
          "text": [
            "True\n"
          ],
          "name": "stdout"
        }
      ]
    },
    {
      "cell_type": "code",
      "metadata": {
        "id": "v-Gc3e9pQ0Ru",
        "colab_type": "code",
        "outputId": "bab7c5bd-81ee-4a73-ab4c-2f5c0f872612",
        "colab": {
          "base_uri": "https://localhost:8080/",
          "height": 34
        }
      },
      "source": [
        "print('or' in 'Hello World')"
      ],
      "execution_count": 10,
      "outputs": [
        {
          "output_type": "stream",
          "text": [
            "True\n"
          ],
          "name": "stdout"
        }
      ]
    },
    {
      "cell_type": "markdown",
      "metadata": {
        "id": "kWW3wSRzQ0Rz",
        "colab_type": "text"
      },
      "source": [
        "# String Methods"
      ]
    },
    {
      "cell_type": "markdown",
      "metadata": {
        "id": "1Us5mMCkQ0R0",
        "colab_type": "text"
      },
      "source": [
        "    Some of the commonly used methods are lower(), upper(), join(), split(), find(), replace() etc"
      ]
    },
    {
      "cell_type": "code",
      "metadata": {
        "id": "SkMrD20MQ0R3",
        "colab_type": "code",
        "outputId": "caedcd75-3166-463b-ff25-84fef9f7f6f7",
        "colab": {
          "base_uri": "https://localhost:8080/",
          "height": 34
        }
      },
      "source": [
        "\"Hello\".lower()"
      ],
      "execution_count": 11,
      "outputs": [
        {
          "output_type": "execute_result",
          "data": {
            "text/plain": [
              "'hello'"
            ]
          },
          "metadata": {
            "tags": []
          },
          "execution_count": 11
        }
      ]
    },
    {
      "cell_type": "code",
      "metadata": {
        "id": "nz3r0uJiQ0R7",
        "colab_type": "code",
        "outputId": "f0f5579a-3695-45c5-f66b-aedb234b2993",
        "colab": {
          "base_uri": "https://localhost:8080/",
          "height": 34
        }
      },
      "source": [
        "\"Hello\".upper()"
      ],
      "execution_count": 12,
      "outputs": [
        {
          "output_type": "execute_result",
          "data": {
            "text/plain": [
              "'HELLO'"
            ]
          },
          "metadata": {
            "tags": []
          },
          "execution_count": 12
        }
      ]
    },
    {
      "cell_type": "code",
      "metadata": {
        "id": "wY5zUXlnQ0R_",
        "colab_type": "code",
        "outputId": "d31f2f7d-7c4e-4e3c-99d1-800152da4a46",
        "colab": {
          "base_uri": "https://localhost:8080/",
          "height": 34
        }
      },
      "source": [
        "\"This will split all words in a list\".split()"
      ],
      "execution_count": 13,
      "outputs": [
        {
          "output_type": "execute_result",
          "data": {
            "text/plain": [
              "['This', 'will', 'split', 'all', 'words', 'in', 'a', 'list']"
            ]
          },
          "metadata": {
            "tags": []
          },
          "execution_count": 13
        }
      ]
    },
    {
      "cell_type": "code",
      "metadata": {
        "id": "y8DCwXIBQ0SC",
        "colab_type": "code",
        "outputId": "62840862-9088-4b65-acc7-8fb7f13a8857",
        "colab": {
          "base_uri": "https://localhost:8080/",
          "height": 34
        }
      },
      "source": [
        "' '.join(['This', 'will', 'split', 'all', 'words', 'in', 'a', 'list'])"
      ],
      "execution_count": 14,
      "outputs": [
        {
          "output_type": "execute_result",
          "data": {
            "text/plain": [
              "'This will split all words in a list'"
            ]
          },
          "metadata": {
            "tags": []
          },
          "execution_count": 14
        }
      ]
    },
    {
      "cell_type": "code",
      "metadata": {
        "id": "Rp2Kj-qkQ0SF",
        "colab_type": "code",
        "outputId": "afeda9c5-29fd-4e5f-836c-1d85ba7d9849",
        "colab": {
          "base_uri": "https://localhost:8080/",
          "height": 34
        }
      },
      "source": [
        "\"Good Morning\".find(\"Mo\")"
      ],
      "execution_count": 15,
      "outputs": [
        {
          "output_type": "execute_result",
          "data": {
            "text/plain": [
              "5"
            ]
          },
          "metadata": {
            "tags": []
          },
          "execution_count": 15
        }
      ]
    },
    {
      "cell_type": "code",
      "metadata": {
        "id": "GWLYw7alQ0SI",
        "colab_type": "code",
        "outputId": "90987f68-f46a-42a6-a4d5-959b7cd5eeb2",
        "colab": {
          "base_uri": "https://localhost:8080/",
          "height": 51
        }
      },
      "source": [
        "s1 = \"Bad morning\"\n",
        "\n",
        "s2 = s1.replace(\"Bad\", \"Good\")\n",
        "\n",
        "print(s1)\n",
        "print(s2)"
      ],
      "execution_count": 17,
      "outputs": [
        {
          "output_type": "stream",
          "text": [
            "Bad morning\n",
            "Good morning\n"
          ],
          "name": "stdout"
        }
      ]
    },
    {
      "cell_type": "markdown",
      "metadata": {
        "id": "i_H-coiDQ0SL",
        "colab_type": "text"
      },
      "source": [
        "# Python Program to Check where a String is Palindrome or not ?"
      ]
    },
    {
      "cell_type": "code",
      "metadata": {
        "id": "PhIi2cEqQ0SM",
        "colab_type": "code",
        "outputId": "1e5ef7d8-9807-4041-bfb5-c159b822af79",
        "colab": {
          "base_uri": "https://localhost:8080/",
          "height": 34
        }
      },
      "source": [
        "myStr = \"Madam\"\n",
        "\n",
        "#convert entire string to either lower or upper\n",
        "myStr = myStr.lower()\n",
        "\n",
        "#reverse string\n",
        "revStr = reversed(myStr)\n",
        "\n",
        "\n",
        "#check if the string is equal to its reverse\n",
        "if list(myStr) == list(revStr):\n",
        "    print(\"Given String is palindrome\")\n",
        "else:\n",
        "    print(\"Given String is not palindrome\")\n"
      ],
      "execution_count": 18,
      "outputs": [
        {
          "output_type": "stream",
          "text": [
            "Given String is palindrome\n"
          ],
          "name": "stdout"
        }
      ]
    },
    {
      "cell_type": "markdown",
      "metadata": {
        "id": "TLQRLF-_Q0SQ",
        "colab_type": "text"
      },
      "source": [
        "# Python Program to Sort Words in Alphabetic Order?"
      ]
    },
    {
      "cell_type": "code",
      "metadata": {
        "id": "8c75-LV9Q0SS",
        "colab_type": "code",
        "outputId": "7e522c04-91d6-4598-f843-786951cbd964",
        "colab": {
          "base_uri": "https://localhost:8080/",
          "height": 170
        }
      },
      "source": [
        "myStr = \"python Program to Sort words in Alphabetic Order\"\n",
        "\n",
        "#breakdown the string into list of words\n",
        "words = myStr.split()\n",
        "print(words)\n",
        "\n",
        "#sort the list\n",
        "words.sort()\n",
        "\n",
        "#print Sorted words are\n",
        "for word in words:\n",
        "    print(word)"
      ],
      "execution_count": 20,
      "outputs": [
        {
          "output_type": "stream",
          "text": [
            "['python', 'Program', 'to', 'Sort', 'words', 'in', 'Alphabetic', 'Order']\n",
            "Alphabetic\n",
            "Order\n",
            "Program\n",
            "Sort\n",
            "in\n",
            "python\n",
            "to\n",
            "words\n"
          ],
          "name": "stdout"
        }
      ]
    },
    {
      "cell_type": "code",
      "metadata": {
        "id": "F3GTmmkUQ0SV",
        "colab_type": "code",
        "colab": {}
      },
      "source": [
        ""
      ],
      "execution_count": 0,
      "outputs": []
    },
    {
      "cell_type": "code",
      "metadata": {
        "id": "8S483u74Q0SY",
        "colab_type": "code",
        "colab": {}
      },
      "source": [
        ""
      ],
      "execution_count": 0,
      "outputs": []
    }
  ]
}