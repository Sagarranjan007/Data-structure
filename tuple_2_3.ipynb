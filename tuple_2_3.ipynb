{
  "nbformat": 4,
  "nbformat_minor": 0,
  "metadata": {
    "kernelspec": {
      "display_name": "Python 3",
      "language": "python",
      "name": "python3"
    },
    "language_info": {
      "codemirror_mode": {
        "name": "ipython",
        "version": 3
      },
      "file_extension": ".py",
      "mimetype": "text/x-python",
      "name": "python",
      "nbconvert_exporter": "python",
      "pygments_lexer": "ipython3",
      "version": "3.6.1"
    },
    "colab": {
      "name": "2.2#2.3.ipynb",
      "provenance": []
    }
  },
  "cells": [
    {
      "cell_type": "markdown",
      "metadata": {
        "id": "25krm7Zj7drW",
        "colab_type": "text"
      },
      "source": [
        "# Tuples"
      ]
    },
    {
      "cell_type": "markdown",
      "metadata": {
        "id": "EV1Q53-R7drY",
        "colab_type": "text"
      },
      "source": [
        "-> A tuple is similar to list\n",
        "\n",
        "-> The diffence between the two is that we can't change the elements of tuple once it is assigned whereas in the list, elements can be changed"
      ]
    },
    {
      "cell_type": "markdown",
      "metadata": {
        "id": "SJVqllYb7drZ",
        "colab_type": "text"
      },
      "source": [
        "# Tuple creation"
      ]
    },
    {
      "cell_type": "code",
      "metadata": {
        "id": "B7C9ljRY7dra",
        "colab_type": "code",
        "colab": {
          "base_uri": "https://localhost:8080/",
          "height": 68
        },
        "outputId": "8610fb59-9b2f-4421-e2e6-4f937e12fca5"
      },
      "source": [
        "#empty tuple\n",
        "t = ()\n",
        "\n",
        "#tuple having integers\n",
        "t = (1, 2, 3)\n",
        "print(t)\n",
        "\n",
        "#tuple with mixed datatypes\n",
        "t = (1, 'raju', 28, 'abc')\n",
        "print(t)\n",
        "\n",
        "#nested tuple\n",
        "t = (1, (2, 3, 4), [1, 'raju', 28, 'abc'])\n",
        "print(t)"
      ],
      "execution_count": 1,
      "outputs": [
        {
          "output_type": "stream",
          "text": [
            "(1, 2, 3)\n",
            "(1, 'raju', 28, 'abc')\n",
            "(1, (2, 3, 4), [1, 'raju', 28, 'abc'])\n"
          ],
          "name": "stdout"
        }
      ]
    },
    {
      "cell_type": "code",
      "metadata": {
        "id": "RgkaLdR67drl",
        "colab_type": "code",
        "colab": {
          "base_uri": "https://localhost:8080/",
          "height": 34
        },
        "outputId": "15b5cad6-d40a-412f-deb0-23f0f05c573f"
      },
      "source": [
        "#only parenthesis is not enough\n",
        "t = ('satish')\n",
        "type(t)"
      ],
      "execution_count": 2,
      "outputs": [
        {
          "output_type": "execute_result",
          "data": {
            "text/plain": [
              "str"
            ]
          },
          "metadata": {
            "tags": []
          },
          "execution_count": 2
        }
      ]
    },
    {
      "cell_type": "code",
      "metadata": {
        "id": "Tf2OuCTi7drq",
        "colab_type": "code",
        "colab": {
          "base_uri": "https://localhost:8080/",
          "height": 34
        },
        "outputId": "8ca61477-6b17-4cd6-f8b0-5a5908f6e4ca"
      },
      "source": [
        "#need a comma at the end\n",
        "t = ('satish',)\n",
        "type(t)"
      ],
      "execution_count": 3,
      "outputs": [
        {
          "output_type": "execute_result",
          "data": {
            "text/plain": [
              "tuple"
            ]
          },
          "metadata": {
            "tags": []
          },
          "execution_count": 3
        }
      ]
    },
    {
      "cell_type": "code",
      "metadata": {
        "id": "ctl47eYj7drw",
        "colab_type": "code",
        "colab": {
          "base_uri": "https://localhost:8080/",
          "height": 51
        },
        "outputId": "ee0156b5-c161-4ef0-b2fc-715cf35fe83a"
      },
      "source": [
        "#parenthesis is optional\n",
        "t = \"satish\", \n",
        "print(type(t))\n",
        "\n",
        "print(t)"
      ],
      "execution_count": 4,
      "outputs": [
        {
          "output_type": "stream",
          "text": [
            "<class 'tuple'>\n",
            "('satish',)\n"
          ],
          "name": "stdout"
        }
      ]
    },
    {
      "cell_type": "markdown",
      "metadata": {
        "id": "cNydczCi7dr2",
        "colab_type": "text"
      },
      "source": [
        "# Accessing Elements in Tuple"
      ]
    },
    {
      "cell_type": "code",
      "metadata": {
        "id": "ZtRU0CMi7dr4",
        "colab_type": "code",
        "colab": {
          "base_uri": "https://localhost:8080/",
          "height": 34
        },
        "outputId": "2df4769b-c702-4e37-cef7-4af1ae79c39f"
      },
      "source": [
        "t = ('satish', 'murali', 'naveen', 'srinu', 'brahma')\n",
        "\n",
        "print(t[1])"
      ],
      "execution_count": 5,
      "outputs": [
        {
          "output_type": "stream",
          "text": [
            "murali\n"
          ],
          "name": "stdout"
        }
      ]
    },
    {
      "cell_type": "code",
      "metadata": {
        "id": "VtTrEMoc7dr-",
        "colab_type": "code",
        "colab": {
          "base_uri": "https://localhost:8080/",
          "height": 34
        },
        "outputId": "c2acb71c-4f59-4ea1-8c3e-5915e9eecfd1"
      },
      "source": [
        "#negative index\n",
        "print(t[-1]) #print last element in a tuple"
      ],
      "execution_count": 6,
      "outputs": [
        {
          "output_type": "stream",
          "text": [
            "brahma\n"
          ],
          "name": "stdout"
        }
      ]
    },
    {
      "cell_type": "code",
      "metadata": {
        "id": "Xtm8iBGI7dsI",
        "colab_type": "code",
        "colab": {
          "base_uri": "https://localhost:8080/",
          "height": 34
        },
        "outputId": "d58da44f-617c-4096-9b19-f4a67598da61"
      },
      "source": [
        "#nested tuple\n",
        "t = ('ABC', ('satish', 'naveen', 'srinu'))\n",
        "\n",
        "print(t[1])"
      ],
      "execution_count": 7,
      "outputs": [
        {
          "output_type": "stream",
          "text": [
            "('satish', 'naveen', 'srinu')\n"
          ],
          "name": "stdout"
        }
      ]
    },
    {
      "cell_type": "code",
      "metadata": {
        "id": "cAb5v3O37dsM",
        "colab_type": "code",
        "colab": {
          "base_uri": "https://localhost:8080/",
          "height": 34
        },
        "outputId": "71aa5915-61a0-4503-b5dc-6dff48caf21b"
      },
      "source": [
        "print(t[1][2])"
      ],
      "execution_count": 8,
      "outputs": [
        {
          "output_type": "stream",
          "text": [
            "srinu\n"
          ],
          "name": "stdout"
        }
      ]
    },
    {
      "cell_type": "code",
      "metadata": {
        "id": "1q_tMEaA7dsU",
        "colab_type": "code",
        "colab": {
          "base_uri": "https://localhost:8080/",
          "height": 68
        },
        "outputId": "67c96d01-befe-483a-bd8c-889315141217"
      },
      "source": [
        "#Slicing\n",
        "t = (1, 2, 3, 4, 5, 6)\n",
        "\n",
        "print(t[1:4])\n",
        "\n",
        "#print elements from starting to 2nd last elements\n",
        "print(t[:-2])\n",
        "\n",
        "#print elements from starting to end\n",
        "print(t[:])"
      ],
      "execution_count": 9,
      "outputs": [
        {
          "output_type": "stream",
          "text": [
            "(2, 3, 4)\n",
            "(1, 2, 3, 4)\n",
            "(1, 2, 3, 4, 5, 6)\n"
          ],
          "name": "stdout"
        }
      ]
    },
    {
      "cell_type": "markdown",
      "metadata": {
        "id": "PAFCm8yo7dsa",
        "colab_type": "text"
      },
      "source": [
        "# Changing a Tuple"
      ]
    },
    {
      "cell_type": "markdown",
      "metadata": {
        "id": "HEX6GVkw7dsb",
        "colab_type": "text"
      },
      "source": [
        "#unlike lists, tuples are immutable\n",
        "#This means that elements of a tuple cannot be changed once it has been assigned. But, if the element is itself a mutable datatype like list, its nested items can be changed."
      ]
    },
    {
      "cell_type": "code",
      "metadata": {
        "id": "QhQT_QIT7dsc",
        "colab_type": "code",
        "colab": {
          "base_uri": "https://localhost:8080/",
          "height": 198
        },
        "outputId": "a79cbd95-7926-4203-9ddc-a587458be6a3"
      },
      "source": [
        "#creating tuple\n",
        "t = (1, 2, 3, 4, [5, 6, 7])\n",
        "\n",
        "t[2] = 'x' #will get TypeError"
      ],
      "execution_count": 10,
      "outputs": [
        {
          "output_type": "error",
          "ename": "TypeError",
          "evalue": "ignored",
          "traceback": [
            "\u001b[0;31m---------------------------------------------------------------------------\u001b[0m",
            "\u001b[0;31mTypeError\u001b[0m                                 Traceback (most recent call last)",
            "\u001b[0;32m<ipython-input-10-1fb87c1270c4>\u001b[0m in \u001b[0;36m<module>\u001b[0;34m()\u001b[0m\n\u001b[1;32m      2\u001b[0m \u001b[0mt\u001b[0m \u001b[0;34m=\u001b[0m \u001b[0;34m(\u001b[0m\u001b[0;36m1\u001b[0m\u001b[0;34m,\u001b[0m \u001b[0;36m2\u001b[0m\u001b[0;34m,\u001b[0m \u001b[0;36m3\u001b[0m\u001b[0;34m,\u001b[0m \u001b[0;36m4\u001b[0m\u001b[0;34m,\u001b[0m \u001b[0;34m[\u001b[0m\u001b[0;36m5\u001b[0m\u001b[0;34m,\u001b[0m \u001b[0;36m6\u001b[0m\u001b[0;34m,\u001b[0m \u001b[0;36m7\u001b[0m\u001b[0;34m]\u001b[0m\u001b[0;34m)\u001b[0m\u001b[0;34m\u001b[0m\u001b[0;34m\u001b[0m\u001b[0m\n\u001b[1;32m      3\u001b[0m \u001b[0;34m\u001b[0m\u001b[0m\n\u001b[0;32m----> 4\u001b[0;31m \u001b[0mt\u001b[0m\u001b[0;34m[\u001b[0m\u001b[0;36m2\u001b[0m\u001b[0;34m]\u001b[0m \u001b[0;34m=\u001b[0m \u001b[0;34m'x'\u001b[0m \u001b[0;31m#will get TypeError\u001b[0m\u001b[0;34m\u001b[0m\u001b[0;34m\u001b[0m\u001b[0m\n\u001b[0m",
            "\u001b[0;31mTypeError\u001b[0m: 'tuple' object does not support item assignment"
          ]
        }
      ]
    },
    {
      "cell_type": "code",
      "metadata": {
        "id": "kSnuw0PI7dsj",
        "colab_type": "code",
        "colab": {
          "base_uri": "https://localhost:8080/",
          "height": 34
        },
        "outputId": "7291a323-6b25-408c-98c8-07b552068f09"
      },
      "source": [
        "t[4][1] = 'satish'\n",
        "print(t)"
      ],
      "execution_count": 11,
      "outputs": [
        {
          "output_type": "stream",
          "text": [
            "(1, 2, 3, 4, [5, 'satish', 7])\n"
          ],
          "name": "stdout"
        }
      ]
    },
    {
      "cell_type": "code",
      "metadata": {
        "id": "wj5kL1O97dso",
        "colab_type": "code",
        "colab": {
          "base_uri": "https://localhost:8080/",
          "height": 34
        },
        "outputId": "9d297231-c6d3-493d-ba07-67444080067b"
      },
      "source": [
        "#concatinating tuples\n",
        "\n",
        "t = (1, 2, 3) + (4, 5, 6)\n",
        "print(t)"
      ],
      "execution_count": 12,
      "outputs": [
        {
          "output_type": "stream",
          "text": [
            "(1, 2, 3, 4, 5, 6)\n"
          ],
          "name": "stdout"
        }
      ]
    },
    {
      "cell_type": "code",
      "metadata": {
        "id": "TO9gLk_u7dss",
        "colab_type": "code",
        "colab": {
          "base_uri": "https://localhost:8080/",
          "height": 34
        },
        "outputId": "c17c6c7d-ab0b-4ce8-dea9-f72beba76c1e"
      },
      "source": [
        "#repeat the elements in a tuple for a given number of times using the * operator.\n",
        "t = (('satish', ) * 4)\n",
        "print(t)"
      ],
      "execution_count": 13,
      "outputs": [
        {
          "output_type": "stream",
          "text": [
            "('satish', 'satish', 'satish', 'satish')\n"
          ],
          "name": "stdout"
        }
      ]
    },
    {
      "cell_type": "markdown",
      "metadata": {
        "id": "9s7W6Rud7dsy",
        "colab_type": "text"
      },
      "source": [
        "# Tuple Deletion"
      ]
    },
    {
      "cell_type": "code",
      "metadata": {
        "id": "lbRXK8V-7ds0",
        "colab_type": "code",
        "colab": {}
      },
      "source": [
        "#we cannot change the elements in a tuple. \n",
        "# That also means we cannot delete or remove items from a tuple.\n",
        "\n",
        "#delete entire tuple using del keyword\n",
        "t = (1, 2, 3, 4, 5, 6)\n",
        "\n",
        "#delete entire tuple\n",
        "del t\n",
        "\n"
      ],
      "execution_count": 0,
      "outputs": []
    },
    {
      "cell_type": "markdown",
      "metadata": {
        "id": "3DQo4vAD7ds6",
        "colab_type": "text"
      },
      "source": [
        "# Tuple Count"
      ]
    },
    {
      "cell_type": "code",
      "metadata": {
        "id": "mIXbWLEa7ds8",
        "colab_type": "code",
        "colab": {
          "base_uri": "https://localhost:8080/",
          "height": 34
        },
        "outputId": "439c1114-c5d7-414f-96fe-e4541e5a73ad"
      },
      "source": [
        "t = (1, 2, 3, 1, 3, 3, 4, 1)\n",
        "\n",
        "#get the frequency of particular element appears in a tuple\n",
        "t.count(1)"
      ],
      "execution_count": 16,
      "outputs": [
        {
          "output_type": "execute_result",
          "data": {
            "text/plain": [
              "3"
            ]
          },
          "metadata": {
            "tags": []
          },
          "execution_count": 16
        }
      ]
    },
    {
      "cell_type": "markdown",
      "metadata": {
        "id": "WgP1EAjR7dtA",
        "colab_type": "text"
      },
      "source": [
        "# Tuple Index"
      ]
    },
    {
      "cell_type": "code",
      "metadata": {
        "id": "db8cHMG57dtB",
        "colab_type": "code",
        "colab": {
          "base_uri": "https://localhost:8080/",
          "height": 34
        },
        "outputId": "428e10c2-8bf6-4402-ff5d-b0571442befc"
      },
      "source": [
        "t = (1, 2, 3, 1, 3, 3, 4, 1)\n",
        "\n",
        "print(t.index(3)) #return index of the first element is equal to 3\n",
        "\n",
        "#print index of the 1\n",
        "\n"
      ],
      "execution_count": 17,
      "outputs": [
        {
          "output_type": "stream",
          "text": [
            "2\n"
          ],
          "name": "stdout"
        }
      ]
    },
    {
      "cell_type": "markdown",
      "metadata": {
        "id": "2uCXbwIc7dtJ",
        "colab_type": "text"
      },
      "source": [
        "# Tuple Memebership "
      ]
    },
    {
      "cell_type": "code",
      "metadata": {
        "id": "KwzIpp6L7dtK",
        "colab_type": "code",
        "colab": {
          "base_uri": "https://localhost:8080/",
          "height": 34
        },
        "outputId": "9e59b8fd-e595-4852-d0da-4bb26c40837a"
      },
      "source": [
        "#test if an item exists in a tuple or not, using the keyword in.\n",
        "t = (1, 2, 3, 4, 5, 6)\n",
        "\n",
        "print(1 in t)"
      ],
      "execution_count": 18,
      "outputs": [
        {
          "output_type": "stream",
          "text": [
            "True\n"
          ],
          "name": "stdout"
        }
      ]
    },
    {
      "cell_type": "code",
      "metadata": {
        "id": "uaPTedkb7dtU",
        "colab_type": "code",
        "colab": {
          "base_uri": "https://localhost:8080/",
          "height": 34
        },
        "outputId": "8186157e-02f1-4a1e-cb5b-64b4b0276a1c"
      },
      "source": [
        "print(7 in t)"
      ],
      "execution_count": 19,
      "outputs": [
        {
          "output_type": "stream",
          "text": [
            "False\n"
          ],
          "name": "stdout"
        }
      ]
    },
    {
      "cell_type": "markdown",
      "metadata": {
        "id": "3i5U18bm7dta",
        "colab_type": "text"
      },
      "source": [
        "# Built in Functions"
      ]
    },
    {
      "cell_type": "markdown",
      "metadata": {
        "id": "EWscrI0N7dtb",
        "colab_type": "text"
      },
      "source": [
        "# Tuple Length"
      ]
    },
    {
      "cell_type": "code",
      "metadata": {
        "id": "-u6rAXll7dtb",
        "colab_type": "code",
        "colab": {
          "base_uri": "https://localhost:8080/",
          "height": 34
        },
        "outputId": "4084201a-5b7b-4020-a686-15d942ce324f"
      },
      "source": [
        "t = (1, 2, 3, 4, 5, 6)\n",
        "print(len(t))"
      ],
      "execution_count": 20,
      "outputs": [
        {
          "output_type": "stream",
          "text": [
            "6\n"
          ],
          "name": "stdout"
        }
      ]
    },
    {
      "cell_type": "markdown",
      "metadata": {
        "id": "WyYRopd77dti",
        "colab_type": "text"
      },
      "source": [
        "# Tuple Sort"
      ]
    },
    {
      "cell_type": "code",
      "metadata": {
        "id": "u8jTh68y7dti",
        "colab_type": "code",
        "colab": {
          "base_uri": "https://localhost:8080/",
          "height": 34
        },
        "outputId": "005e0063-3641-444b-a466-efa2b2aa7919"
      },
      "source": [
        "t = (4, 5, 1, 2, 3)\n",
        "\n",
        "new_t = sorted(t)\n",
        "print(new_t) #Take elements in the tuple and return a new sorted list \n",
        "             #(does not sort the tuple itself)."
      ],
      "execution_count": 21,
      "outputs": [
        {
          "output_type": "stream",
          "text": [
            "[1, 2, 3, 4, 5]\n"
          ],
          "name": "stdout"
        }
      ]
    },
    {
      "cell_type": "code",
      "metadata": {
        "id": "4IIe76xM7dtr",
        "colab_type": "code",
        "colab": {
          "base_uri": "https://localhost:8080/",
          "height": 34
        },
        "outputId": "df87dc3c-2bd5-4b0d-ad33-fc353058bd70"
      },
      "source": [
        "#get the largest element in a tuple\n",
        "t = (2, 5, 1, 6, 9)\n",
        "\n",
        "print(max(t))"
      ],
      "execution_count": 22,
      "outputs": [
        {
          "output_type": "stream",
          "text": [
            "9\n"
          ],
          "name": "stdout"
        }
      ]
    },
    {
      "cell_type": "code",
      "metadata": {
        "id": "DhThoDiu7dtx",
        "colab_type": "code",
        "colab": {
          "base_uri": "https://localhost:8080/",
          "height": 34
        },
        "outputId": "db6c13ae-9aea-4f9c-f85d-49e3c8cbf3bc"
      },
      "source": [
        "#get the smallest element in a tuple\n",
        "print(min(t))"
      ],
      "execution_count": 23,
      "outputs": [
        {
          "output_type": "stream",
          "text": [
            "1\n"
          ],
          "name": "stdout"
        }
      ]
    },
    {
      "cell_type": "code",
      "metadata": {
        "id": "kzJ_5JCx7dt7",
        "colab_type": "code",
        "colab": {
          "base_uri": "https://localhost:8080/",
          "height": 34
        },
        "outputId": "88a714b1-9c1d-48d5-b01b-a47496a479bf"
      },
      "source": [
        "#get sum of elments in the tuple\n",
        "print(sum(t))"
      ],
      "execution_count": 24,
      "outputs": [
        {
          "output_type": "stream",
          "text": [
            "23\n"
          ],
          "name": "stdout"
        }
      ]
    }
  ]
}